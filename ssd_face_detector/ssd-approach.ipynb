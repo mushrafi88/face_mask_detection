{
 "cells": [
  {
   "cell_type": "code",
   "execution_count": 1,
   "metadata": {
    "execution": {
     "iopub.execute_input": "2021-03-23T13:06:36.701153Z",
     "iopub.status.busy": "2021-03-23T13:06:36.700838Z",
     "iopub.status.idle": "2021-03-23T13:06:37.109107Z",
     "shell.execute_reply": "2021-03-23T13:06:37.108344Z",
     "shell.execute_reply.started": "2021-03-23T13:06:36.701074Z"
    },
    "tags": []
   },
   "outputs": [],
   "source": [
    "import cv2\n",
    "import numpy as np\n",
    "import pandas as pd\n",
    "import time \n",
    "import math"
   ]
  },
  {
   "cell_type": "code",
   "execution_count": 2,
   "metadata": {
    "execution": {
     "iopub.execute_input": "2021-03-23T13:06:37.585739Z",
     "iopub.status.busy": "2021-03-23T13:06:37.584437Z",
     "iopub.status.idle": "2021-03-23T13:06:37.675495Z",
     "shell.execute_reply": "2021-03-23T13:06:37.672022Z",
     "shell.execute_reply.started": "2021-03-23T13:06:37.585592Z"
    },
    "tags": []
   },
   "outputs": [],
   "source": [
    "detector = cv2.dnn.readNetFromCaffe('deploy.prototxt', 'res10_300x300_ssd_iter_140000.caffemodel')"
   ]
  },
  {
   "cell_type": "code",
   "execution_count": 3,
   "metadata": {
    "execution": {
     "iopub.execute_input": "2021-03-23T13:06:38.029238Z",
     "iopub.status.busy": "2021-03-23T13:06:38.028133Z",
     "iopub.status.idle": "2021-03-23T13:06:38.056047Z",
     "shell.execute_reply": "2021-03-23T13:06:38.052220Z",
     "shell.execute_reply.started": "2021-03-23T13:06:38.029095Z"
    },
    "tags": []
   },
   "outputs": [],
   "source": [
    "image = cv2.imread(\"qwe_download.jpg\")\n",
    "base_img = image.copy()"
   ]
  },
  {
   "cell_type": "code",
   "execution_count": 4,
   "metadata": {
    "execution": {
     "iopub.execute_input": "2021-03-23T13:06:38.498949Z",
     "iopub.status.busy": "2021-03-23T13:06:38.497951Z",
     "iopub.status.idle": "2021-03-23T13:06:38.516762Z",
     "shell.execute_reply": "2021-03-23T13:06:38.513838Z",
     "shell.execute_reply.started": "2021-03-23T13:06:38.498834Z"
    },
    "tags": []
   },
   "outputs": [],
   "source": [
    "original_size = image.shape\n",
    "target_size = (300, 300)"
   ]
  },
  {
   "cell_type": "code",
   "execution_count": 5,
   "metadata": {
    "execution": {
     "iopub.execute_input": "2021-03-23T13:06:38.956998Z",
     "iopub.status.busy": "2021-03-23T13:06:38.956026Z",
     "iopub.status.idle": "2021-03-23T13:06:38.970484Z",
     "shell.execute_reply": "2021-03-23T13:06:38.967118Z",
     "shell.execute_reply.started": "2021-03-23T13:06:38.956847Z"
    },
    "tags": []
   },
   "outputs": [],
   "source": [
    "image = cv2.resize(image, target_size)"
   ]
  },
  {
   "cell_type": "code",
   "execution_count": 6,
   "metadata": {
    "execution": {
     "iopub.execute_input": "2021-03-23T13:06:39.446486Z",
     "iopub.status.busy": "2021-03-23T13:06:39.445633Z",
     "iopub.status.idle": "2021-03-23T13:06:39.458410Z",
     "shell.execute_reply": "2021-03-23T13:06:39.455459Z",
     "shell.execute_reply.started": "2021-03-23T13:06:39.446377Z"
    },
    "tags": []
   },
   "outputs": [],
   "source": [
    "aspect_ratio_x = (original_size[1] / target_size[1])\n",
    "aspect_ratio_y = (original_size[0] / target_size[0])"
   ]
  },
  {
   "cell_type": "code",
   "execution_count": 7,
   "metadata": {
    "execution": {
     "iopub.execute_input": "2021-03-23T13:06:39.914105Z",
     "iopub.status.busy": "2021-03-23T13:06:39.913239Z",
     "iopub.status.idle": "2021-03-23T13:06:39.973799Z",
     "shell.execute_reply": "2021-03-23T13:06:39.970488Z",
     "shell.execute_reply.started": "2021-03-23T13:06:39.914008Z"
    },
    "tags": []
   },
   "outputs": [
    {
     "data": {
      "text/plain": [
       "(300, 300, 3)"
      ]
     },
     "execution_count": 7,
     "metadata": {},
     "output_type": "execute_result"
    }
   ],
   "source": [
    "image.shape"
   ]
  },
  {
   "cell_type": "code",
   "execution_count": 8,
   "metadata": {
    "execution": {
     "iopub.execute_input": "2021-03-23T13:06:40.384164Z",
     "iopub.status.busy": "2021-03-23T13:06:40.382897Z",
     "iopub.status.idle": "2021-03-23T13:06:40.810583Z",
     "shell.execute_reply": "2021-03-23T13:06:40.808077Z",
     "shell.execute_reply.started": "2021-03-23T13:06:40.383980Z"
    },
    "tags": []
   },
   "outputs": [],
   "source": [
    "cv2.imshow('image',image)\n",
    "cv2.waitKey(0)\n",
    "cv2.destroyAllWindows()"
   ]
  },
  {
   "cell_type": "code",
   "execution_count": 9,
   "metadata": {
    "execution": {
     "iopub.execute_input": "2021-03-23T13:06:41.942192Z",
     "iopub.status.busy": "2021-03-23T13:06:41.941348Z",
     "iopub.status.idle": "2021-03-23T13:06:41.961797Z",
     "shell.execute_reply": "2021-03-23T13:06:41.959406Z",
     "shell.execute_reply.started": "2021-03-23T13:06:41.942098Z"
    },
    "tags": []
   },
   "outputs": [],
   "source": [
    "imageBlob = cv2.dnn.blobFromImage(image = image)"
   ]
  },
  {
   "cell_type": "code",
   "execution_count": 10,
   "metadata": {
    "execution": {
     "iopub.execute_input": "2021-03-23T13:06:42.617410Z",
     "iopub.status.busy": "2021-03-23T13:06:42.616435Z",
     "iopub.status.idle": "2021-03-23T13:06:42.861195Z",
     "shell.execute_reply": "2021-03-23T13:06:42.860023Z",
     "shell.execute_reply.started": "2021-03-23T13:06:42.617296Z"
    },
    "tags": []
   },
   "outputs": [],
   "source": [
    "detector.setInput(imageBlob)\n",
    "detections = detector.forward()"
   ]
  },
  {
   "cell_type": "code",
   "execution_count": 11,
   "metadata": {
    "execution": {
     "iopub.execute_input": "2021-03-23T13:06:43.215090Z",
     "iopub.status.busy": "2021-03-23T13:06:43.214089Z",
     "iopub.status.idle": "2021-03-23T13:06:43.236896Z",
     "shell.execute_reply": "2021-03-23T13:06:43.232111Z",
     "shell.execute_reply.started": "2021-03-23T13:06:43.214965Z"
    },
    "tags": []
   },
   "outputs": [
    {
     "data": {
      "text/plain": [
       "(200, 7)"
      ]
     },
     "execution_count": 11,
     "metadata": {},
     "output_type": "execute_result"
    }
   ],
   "source": [
    "detections[0][0].shape"
   ]
  },
  {
   "cell_type": "code",
   "execution_count": 12,
   "metadata": {
    "execution": {
     "iopub.execute_input": "2021-03-23T13:06:44.087713Z",
     "iopub.status.busy": "2021-03-23T13:06:44.086825Z",
     "iopub.status.idle": "2021-03-23T13:06:44.104992Z",
     "shell.execute_reply": "2021-03-23T13:06:44.098953Z",
     "shell.execute_reply.started": "2021-03-23T13:06:44.087625Z"
    },
    "tags": []
   },
   "outputs": [],
   "source": [
    "detections_df = pd.DataFrame(detections[0][0]\n",
    "    , columns = [\"img_id\", \"is_face\", \"confidence\", \"left\", \"top\", \"right\", \"bottom\"])"
   ]
  },
  {
   "cell_type": "code",
   "execution_count": 13,
   "metadata": {
    "execution": {
     "iopub.execute_input": "2021-03-23T13:06:44.790967Z",
     "iopub.status.busy": "2021-03-23T13:06:44.789773Z",
     "iopub.status.idle": "2021-03-23T13:06:44.826418Z",
     "shell.execute_reply": "2021-03-23T13:06:44.822003Z",
     "shell.execute_reply.started": "2021-03-23T13:06:44.790798Z"
    },
    "tags": []
   },
   "outputs": [],
   "source": [
    "# change confidence ratio here \n",
    "\n",
    "detections_df = detections_df[detections_df['is_face'] == 1] #0: background, 1: face\n",
    "detections_df = detections_df[detections_df['confidence'] >= 0.50]"
   ]
  },
  {
   "cell_type": "code",
   "execution_count": 14,
   "metadata": {
    "execution": {
     "iopub.execute_input": "2021-03-23T13:06:46.080593Z",
     "iopub.status.busy": "2021-03-23T13:06:46.080239Z",
     "iopub.status.idle": "2021-03-23T13:06:46.098194Z",
     "shell.execute_reply": "2021-03-23T13:06:46.097467Z",
     "shell.execute_reply.started": "2021-03-23T13:06:46.080561Z"
    },
    "tags": []
   },
   "outputs": [
    {
     "data": {
      "text/html": [
       "<div>\n",
       "<style scoped>\n",
       "    .dataframe tbody tr th:only-of-type {\n",
       "        vertical-align: middle;\n",
       "    }\n",
       "\n",
       "    .dataframe tbody tr th {\n",
       "        vertical-align: top;\n",
       "    }\n",
       "\n",
       "    .dataframe thead th {\n",
       "        text-align: right;\n",
       "    }\n",
       "</style>\n",
       "<table border=\"1\" class=\"dataframe\">\n",
       "  <thead>\n",
       "    <tr style=\"text-align: right;\">\n",
       "      <th></th>\n",
       "      <th>img_id</th>\n",
       "      <th>is_face</th>\n",
       "      <th>confidence</th>\n",
       "      <th>left</th>\n",
       "      <th>top</th>\n",
       "      <th>right</th>\n",
       "      <th>bottom</th>\n",
       "    </tr>\n",
       "  </thead>\n",
       "  <tbody>\n",
       "    <tr>\n",
       "      <th>0</th>\n",
       "      <td>0.0</td>\n",
       "      <td>1.0</td>\n",
       "      <td>0.999837</td>\n",
       "      <td>0.351062</td>\n",
       "      <td>0.522484</td>\n",
       "      <td>0.467391</td>\n",
       "      <td>0.823327</td>\n",
       "    </tr>\n",
       "    <tr>\n",
       "      <th>1</th>\n",
       "      <td>0.0</td>\n",
       "      <td>1.0</td>\n",
       "      <td>0.988509</td>\n",
       "      <td>0.463291</td>\n",
       "      <td>0.217970</td>\n",
       "      <td>0.581529</td>\n",
       "      <td>0.472572</td>\n",
       "    </tr>\n",
       "    <tr>\n",
       "      <th>2</th>\n",
       "      <td>0.0</td>\n",
       "      <td>1.0</td>\n",
       "      <td>0.940376</td>\n",
       "      <td>0.188052</td>\n",
       "      <td>0.500043</td>\n",
       "      <td>0.290668</td>\n",
       "      <td>0.775342</td>\n",
       "    </tr>\n",
       "    <tr>\n",
       "      <th>3</th>\n",
       "      <td>0.0</td>\n",
       "      <td>1.0</td>\n",
       "      <td>0.929991</td>\n",
       "      <td>0.018199</td>\n",
       "      <td>0.498472</td>\n",
       "      <td>0.125849</td>\n",
       "      <td>0.765208</td>\n",
       "    </tr>\n",
       "    <tr>\n",
       "      <th>4</th>\n",
       "      <td>0.0</td>\n",
       "      <td>1.0</td>\n",
       "      <td>0.869219</td>\n",
       "      <td>0.782433</td>\n",
       "      <td>0.697233</td>\n",
       "      <td>0.898174</td>\n",
       "      <td>0.960454</td>\n",
       "    </tr>\n",
       "  </tbody>\n",
       "</table>\n",
       "</div>"
      ],
      "text/plain": [
       "   img_id  is_face  confidence      left       top     right    bottom\n",
       "0     0.0      1.0    0.999837  0.351062  0.522484  0.467391  0.823327\n",
       "1     0.0      1.0    0.988509  0.463291  0.217970  0.581529  0.472572\n",
       "2     0.0      1.0    0.940376  0.188052  0.500043  0.290668  0.775342\n",
       "3     0.0      1.0    0.929991  0.018199  0.498472  0.125849  0.765208\n",
       "4     0.0      1.0    0.869219  0.782433  0.697233  0.898174  0.960454"
      ]
     },
     "execution_count": 14,
     "metadata": {},
     "output_type": "execute_result"
    }
   ],
   "source": [
    "detections_df.head()"
   ]
  },
  {
   "cell_type": "code",
   "execution_count": 15,
   "metadata": {
    "execution": {
     "iopub.execute_input": "2021-03-23T13:06:46.185299Z",
     "iopub.status.busy": "2021-03-23T13:06:46.184481Z",
     "iopub.status.idle": "2021-03-23T13:06:46.203340Z",
     "shell.execute_reply": "2021-03-23T13:06:46.201965Z",
     "shell.execute_reply.started": "2021-03-23T13:06:46.185225Z"
    },
    "tags": []
   },
   "outputs": [],
   "source": [
    "for i, instance in detections_df.iterrows():\n",
    "    #print(instance)\n",
    "    \n",
    "    confidence_score = str(round(100*instance[\"confidence\"], 2))+\" %\"\n",
    "    \n",
    "    left = int(instance[\"left\"] * 300)\n",
    "    bottom = int(instance[\"bottom\"] * 300)\n",
    "    right = int(instance[\"right\"] * 300)\n",
    "    top = int(instance[\"top\"] * 300)\n",
    "        \n",
    "    #low resolution\n",
    "    #detected_face = image[top:bottom, left:right]\n",
    "    \n",
    "    #high resolution\n",
    "    detected_face = base_img[int(top*aspect_ratio_y):int(bottom*aspect_ratio_y), int(left*aspect_ratio_x):int(right*aspect_ratio_x)]\n",
    "    \n",
    "    if detected_face.shape[0] > 0 and detected_face.shape[1] > 0:\n",
    "        \n",
    "        #plt.figure(figsize = (3, 3))\n",
    "        \n",
    "        #low resolution\n",
    "        #cv2.putText(image, confidence_score, (left, top-10), cv2.FONT_HERSHEY_SIMPLEX, 0.5, (255, 255, 255), 1)\n",
    "        #cv2.rectangle(image, (left, top), (right, bottom), (255, 255, 255), 1) #draw rectangle to main image\n",
    "        \n",
    "        #high resolution\n",
    "        cv2.putText(base_img, confidence_score, (int(left*aspect_ratio_x), int(top*aspect_ratio_y-10)), cv2.FONT_HERSHEY_SIMPLEX, 0.5, (255, 255, 0), 1)\n",
    "        cv2.rectangle(base_img, (int(left*aspect_ratio_x), int(top*aspect_ratio_y)), (int(right*aspect_ratio_x), int(bottom*aspect_ratio_y)), (255, 255, 255), 3) #draw rectangle to main image\n",
    "        \n",
    "        #-------------------\n",
    "        #cv2.imshow('face',detected_face)\n",
    "        #cv2.waitKey(0)\n",
    "        #cv2.destroyAllWindows()"
   ]
  },
  {
   "cell_type": "code",
   "execution_count": 16,
   "metadata": {
    "execution": {
     "iopub.execute_input": "2021-03-23T13:06:47.125135Z",
     "iopub.status.busy": "2021-03-23T13:06:47.124342Z",
     "iopub.status.idle": "2021-03-23T13:06:50.158765Z",
     "shell.execute_reply": "2021-03-23T13:06:50.156559Z",
     "shell.execute_reply.started": "2021-03-23T13:06:47.125053Z"
    },
    "tags": []
   },
   "outputs": [
    {
     "data": {
      "text/plain": [
       "113"
      ]
     },
     "execution_count": 16,
     "metadata": {},
     "output_type": "execute_result"
    }
   ],
   "source": [
    "cv2.imshow('name', base_img)\n",
    "cv2.waitKey(0)"
   ]
  },
  {
   "cell_type": "code",
   "execution_count": 17,
   "metadata": {
    "execution": {
     "iopub.execute_input": "2021-03-23T13:06:52.832887Z",
     "iopub.status.busy": "2021-03-23T13:06:52.832467Z",
     "iopub.status.idle": "2021-03-23T13:06:52.843110Z",
     "shell.execute_reply": "2021-03-23T13:06:52.842114Z",
     "shell.execute_reply.started": "2021-03-23T13:06:52.832837Z"
    },
    "tags": []
   },
   "outputs": [],
   "source": [
    "cv2.destroyAllWindows()"
   ]
  },
  {
   "cell_type": "code",
   "execution_count": null,
   "metadata": {},
   "outputs": [],
   "source": []
  }
 ],
 "metadata": {
  "kernelspec": {
   "display_name": "Python 3",
   "language": "python",
   "name": "python3"
  },
  "language_info": {
   "codemirror_mode": {
    "name": "ipython",
    "version": 3
   },
   "file_extension": ".py",
   "mimetype": "text/x-python",
   "name": "python",
   "nbconvert_exporter": "python",
   "pygments_lexer": "ipython3",
   "version": "3.9.2"
  }
 },
 "nbformat": 4,
 "nbformat_minor": 4
}

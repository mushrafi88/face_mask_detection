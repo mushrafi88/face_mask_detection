{
 "cells": [
  {
   "cell_type": "code",
   "execution_count": 1,
   "metadata": {
    "execution": {
     "iopub.execute_input": "2021-03-23T13:46:22.398962Z",
     "iopub.status.busy": "2021-03-23T13:46:22.397345Z",
     "iopub.status.idle": "2021-03-23T13:46:23.094412Z",
     "shell.execute_reply": "2021-03-23T13:46:23.093524Z",
     "shell.execute_reply.started": "2021-03-23T13:46:22.398708Z"
    },
    "tags": []
   },
   "outputs": [],
   "source": [
    "import cv2\n",
    "import numpy as np\n",
    "import pandas as pd\n",
    "import time \n",
    "import math"
   ]
  },
  {
   "cell_type": "code",
   "execution_count": 2,
   "metadata": {
    "execution": {
     "iopub.execute_input": "2021-03-23T13:46:23.273988Z",
     "iopub.status.busy": "2021-03-23T13:46:23.273656Z",
     "iopub.status.idle": "2021-03-23T13:46:23.309220Z",
     "shell.execute_reply": "2021-03-23T13:46:23.308442Z",
     "shell.execute_reply.started": "2021-03-23T13:46:23.273954Z"
    },
    "tags": []
   },
   "outputs": [],
   "source": [
    "detector = cv2.dnn.readNetFromCaffe('deploy.prototxt', 'res10_300x300_ssd_iter_140000.caffemodel')"
   ]
  },
  {
   "cell_type": "code",
   "execution_count": 3,
   "metadata": {
    "execution": {
     "iopub.execute_input": "2021-03-23T13:46:24.162446Z",
     "iopub.status.busy": "2021-03-23T13:46:24.161812Z",
     "iopub.status.idle": "2021-03-23T13:46:24.203681Z",
     "shell.execute_reply": "2021-03-23T13:46:24.199347Z",
     "shell.execute_reply.started": "2021-03-23T13:46:24.162370Z"
    },
    "tags": []
   },
   "outputs": [],
   "source": [
    "def process_frames_from_video(frame):\n",
    "    base_img = frame.copy()\n",
    "    original_size = frame.shape\n",
    "    target_size = (300,300)\n",
    "    frame = cv2.resize(frame, target_size)\n",
    "    aspect_ratio_x = (original_size[1] / target_size[1])\n",
    "    aspect_ratio_y = (original_size[0] / target_size[0])\n",
    "    imageBlob = cv2.dnn.blobFromImage(frame)\n",
    "    detector.setInput(imageBlob)\n",
    "    detections = detector.forward()\n",
    "    detections_df = pd.DataFrame(detections[0][0], columns = [\"img_id\", \"is_face\", \"confidence\", \"left\", \"top\", \"right\", \"bottom\"])\n",
    "    detections_df = detections_df[detections_df['is_face'] == 1] #0: background, 1: face\n",
    "    detections_df = detections_df[detections_df['confidence'] >= 0.50]\n",
    "    for i, instance in detections_df.iterrows():\n",
    "        confidence_score = str(round(100*instance[\"confidence\"], 2))+\" %\"\n",
    "        left = int(instance[\"left\"] * 300)\n",
    "        bottom = int(instance[\"bottom\"] * 300)\n",
    "        right = int(instance[\"right\"] * 300)\n",
    "        top = int(instance[\"top\"] * 300)\n",
    "        \n",
    "        detected_face = base_img[int(top*aspect_ratio_y):int(bottom*aspect_ratio_y), int(left*aspect_ratio_x):int(right*aspect_ratio_x)]\n",
    "    \n",
    "        if detected_face.shape[0] > 0 and detected_face.shape[1] > 0:\n",
    "            cv2.putText(base_img, confidence_score, (int(left*aspect_ratio_x), int(top*aspect_ratio_y-10)), cv2.FONT_HERSHEY_SIMPLEX, 0.5, (255, 255, 0), 1)\n",
    "            cv2.rectangle(base_img, (int(left*aspect_ratio_x), int(top*aspect_ratio_y)), (int(right*aspect_ratio_x), int(bottom*aspect_ratio_y)), (255, 255, 255), 3) #draw rectangle to main image\n",
    "        \n",
    "    return base_img"
   ]
  },
  {
   "cell_type": "code",
   "execution_count": 4,
   "metadata": {
    "execution": {
     "iopub.execute_input": "2021-03-23T13:46:25.348041Z",
     "iopub.status.busy": "2021-03-23T13:46:25.347186Z",
     "iopub.status.idle": "2021-03-23T13:46:25.368688Z",
     "shell.execute_reply": "2021-03-23T13:46:25.364269Z",
     "shell.execute_reply.started": "2021-03-23T13:46:25.347932Z"
    },
    "tags": []
   },
   "outputs": [],
   "source": [
    "def face_detector(filename):\n",
    "    cap = cv2.VideoCapture(filename)\n",
    "    while True:\n",
    "        ret, next_frame = cap.read() \n",
    "        \n",
    "        if ret == False: break\n",
    "        next_frame = process_frames_from_video(next_frame)\n",
    "        \n",
    "        cv2.imshow('frame',next_frame)\n",
    "        key = cv2.waitKey(50)\n",
    "        \n",
    "        if key == 27: # Hit ESC key to stop\n",
    "            break\n",
    "    \n",
    "    cap.release()\n",
    "    cv2.destroyAllWindows()"
   ]
  },
  {
   "cell_type": "code",
   "execution_count": 6,
   "metadata": {
    "execution": {
     "iopub.execute_input": "2021-03-23T13:54:12.926546Z",
     "iopub.status.busy": "2021-03-23T13:54:12.925579Z",
     "iopub.status.idle": "2021-03-23T13:54:59.681201Z",
     "shell.execute_reply": "2021-03-23T13:54:59.678699Z",
     "shell.execute_reply.started": "2021-03-23T13:54:12.926422Z"
    },
    "tags": []
   },
   "outputs": [],
   "source": [
    "face_detector(1)"
   ]
  },
  {
   "cell_type": "code",
   "execution_count": null,
   "metadata": {},
   "outputs": [],
   "source": []
  }
 ],
 "metadata": {
  "kernelspec": {
   "display_name": "Python 3",
   "language": "python",
   "name": "python3"
  },
  "language_info": {
   "codemirror_mode": {
    "name": "ipython",
    "version": 3
   },
   "file_extension": ".py",
   "mimetype": "text/x-python",
   "name": "python",
   "nbconvert_exporter": "python",
   "pygments_lexer": "ipython3",
   "version": "3.9.2"
  }
 },
 "nbformat": 4,
 "nbformat_minor": 4
}

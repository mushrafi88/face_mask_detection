{
 "cells": [
  {
   "cell_type": "code",
   "execution_count": 2,
   "metadata": {
    "execution": {
     "iopub.execute_input": "2021-03-27T04:16:48.990277Z",
     "iopub.status.busy": "2021-03-27T04:16:48.989628Z",
     "iopub.status.idle": "2021-03-27T04:16:50.144821Z",
     "shell.execute_reply": "2021-03-27T04:16:50.144011Z",
     "shell.execute_reply.started": "2021-03-27T04:16:48.990209Z"
    },
    "tags": []
   },
   "outputs": [],
   "source": [
    "import cv2\n",
    "import numpy as np\n",
    "import pandas as pd\n",
    "import time \n",
    "import math\n",
    "import argparse\n",
    "import os\n",
    "import glob\n",
    "import random\n",
    "import darknet\n",
    "import time"
   ]
  },
  {
   "cell_type": "code",
   "execution_count": 3,
   "metadata": {
    "execution": {
     "iopub.execute_input": "2021-03-27T04:16:50.873684Z",
     "iopub.status.busy": "2021-03-27T04:16:50.872994Z",
     "iopub.status.idle": "2021-03-27T04:16:50.964111Z",
     "shell.execute_reply": "2021-03-27T04:16:50.960599Z",
     "shell.execute_reply.started": "2021-03-27T04:16:50.873604Z"
    },
    "tags": []
   },
   "outputs": [],
   "source": [
    "detector = cv2.dnn.readNetFromCaffe('deploy.prototxt', 'res10_300x300_ssd_iter_140000.caffemodel')"
   ]
  },
  {
   "cell_type": "code",
   "execution_count": 4,
   "metadata": {
    "execution": {
     "iopub.execute_input": "2021-03-27T04:16:51.478698Z",
     "iopub.status.busy": "2021-03-27T04:16:51.477656Z",
     "iopub.status.idle": "2021-03-27T04:16:54.886453Z",
     "shell.execute_reply": "2021-03-27T04:16:54.885784Z",
     "shell.execute_reply.started": "2021-03-27T04:16:51.478584Z"
    },
    "tags": []
   },
   "outputs": [],
   "source": [
    "random.seed(3)  # deterministic bbox colors\n",
    "network, class_names, class_colors = darknet.load_network(\n",
    "        'cfg/yolov4-obj.cfg',\n",
    "        'data/obj.data',\n",
    "        'yolov4-obj_best.weights')"
   ]
  },
  {
   "cell_type": "code",
   "execution_count": 5,
   "metadata": {
    "execution": {
     "iopub.execute_input": "2021-03-27T04:16:55.556121Z",
     "iopub.status.busy": "2021-03-27T04:16:55.555570Z",
     "iopub.status.idle": "2021-03-27T04:16:55.575982Z",
     "shell.execute_reply": "2021-03-27T04:16:55.573115Z",
     "shell.execute_reply.started": "2021-03-27T04:16:55.556058Z"
    },
    "tags": []
   },
   "outputs": [],
   "source": [
    "def mask_detection(frame, network, class_names, class_colors, thresh):\n",
    "    width = darknet.network_width(network)\n",
    "    height = darknet.network_height(network)\n",
    "    darknet_image = darknet.make_image(width, height, 3)\n",
    "    image = frame.copy()\n",
    "    image_rgb = cv2.cvtColor(image, cv2.COLOR_BGR2RGB)\n",
    "    image_resized = cv2.resize(image_rgb, (width, height),\n",
    "                               interpolation=cv2.INTER_LINEAR)\n",
    "    darknet.copy_image_from_bytes(darknet_image, image_resized.tobytes())\n",
    "    detections = darknet.detect_image(network, class_names, darknet_image, thresh=thresh)\n",
    "    return detections"
   ]
  },
  {
   "cell_type": "code",
   "execution_count": 6,
   "metadata": {
    "execution": {
     "iopub.execute_input": "2021-03-27T04:16:56.266351Z",
     "iopub.status.busy": "2021-03-27T04:16:56.265020Z",
     "iopub.status.idle": "2021-03-27T04:16:56.305652Z",
     "shell.execute_reply": "2021-03-27T04:16:56.303273Z",
     "shell.execute_reply.started": "2021-03-27T04:16:56.266258Z"
    },
    "tags": []
   },
   "outputs": [],
   "source": [
    "def process_frames_from_video(frame):\n",
    "    base_img = frame.copy()\n",
    "    original_size = frame.shape\n",
    "    target_size = (300,300)\n",
    "    frame = cv2.resize(frame, target_size)\n",
    "    aspect_ratio_x = (original_size[1] / target_size[1])\n",
    "    aspect_ratio_y = (original_size[0] / target_size[0])\n",
    "    imageBlob = cv2.dnn.blobFromImage(frame)\n",
    "    detector.setInput(imageBlob)\n",
    "    detections = detector.forward()\n",
    "    detections_df = pd.DataFrame(detections[0][0], columns = [\"img_id\", \"is_face\", \"confidence\", \"left\", \"top\", \"right\", \"bottom\"])\n",
    "    detections_df = detections_df[detections_df['is_face'] == 1] #0: background, 1: face\n",
    "    detections_df = detections_df[detections_df['confidence'] >= 0.50]\n",
    "\n",
    "    \n",
    "    for i, instance in detections_df.iterrows():\n",
    "        confidence_score = str(round(100*instance[\"confidence\"], 2))+\" %\"\n",
    "        left = int(instance[\"left\"] * 300 )\n",
    "        bottom = int(instance[\"bottom\"] * 300 )\n",
    "        right = int(instance[\"right\"] * 300  )\n",
    "        top = int(instance[\"top\"] * 300 )\n",
    "        detected_face = base_img[int(top*aspect_ratio_y):int(bottom*aspect_ratio_y*1.08), int(left*aspect_ratio_x- left*aspect_ratio_x*0.08):int(right*aspect_ratio_x*1.08)]\n",
    "        detections = mask_detection(detected_face, network, class_names, class_colors, 0.91)\n",
    "\n",
    "        if detected_face.shape[0] > 0 and detected_face.shape[1] > 0:\n",
    "            if len(detections) == 1:\n",
    "                cv2.putText(base_img, 'mask detected', (int(left*aspect_ratio_x), int(top*aspect_ratio_y-10)), cv2.FONT_HERSHEY_SIMPLEX, 1, (255, 255, 0), 2)\n",
    "                cv2.rectangle(base_img, (int(left*aspect_ratio_x), int(top*aspect_ratio_y)), (int(right*aspect_ratio_x), int(bottom*aspect_ratio_y)), (0, 255, 0), 3) #draw rectangle to main image\n",
    "            elif len(detections) == 0:\n",
    "                cv2.putText(base_img, 'not wearing mask', (int(left*aspect_ratio_x), int(top*aspect_ratio_y-10)), cv2.FONT_HERSHEY_SIMPLEX, 1, (255, 255, 0), 2)\n",
    "                cv2.rectangle(base_img, (int(left*aspect_ratio_x), int(top*aspect_ratio_y)), (int(right*aspect_ratio_x), int(bottom*aspect_ratio_y)), (0, 0, 255), 3) #draw rectangle to main image\n",
    "    return base_img\n"
   ]
  },
  {
   "cell_type": "code",
   "execution_count": 7,
   "metadata": {
    "execution": {
     "iopub.execute_input": "2021-03-27T04:16:58.502333Z",
     "iopub.status.busy": "2021-03-27T04:16:58.501717Z",
     "iopub.status.idle": "2021-03-27T04:16:58.517441Z",
     "shell.execute_reply": "2021-03-27T04:16:58.511574Z",
     "shell.execute_reply.started": "2021-03-27T04:16:58.502261Z"
    },
    "tags": []
   },
   "outputs": [],
   "source": [
    "def face_detector(filename):\n",
    "    cap = cv2.VideoCapture(filename)\n",
    "    while True:\n",
    "        ret, next_frame = cap.read() \n",
    "        \n",
    "        if ret == False: break\n",
    "        next_frame = process_frames_from_video(next_frame)\n",
    "        \n",
    "        cv2.imshow('frame',next_frame)\n",
    "        key = cv2.waitKey(50)\n",
    "        \n",
    "        if key == 27: # Hit ESC key to stop\n",
    "            break\n",
    "    \n",
    "    cap.release()\n",
    "    cv2.destroyAllWindows()"
   ]
  },
  {
   "cell_type": "code",
   "execution_count": 8,
   "metadata": {
    "execution": {
     "iopub.execute_input": "2021-03-27T04:16:59.941109Z",
     "iopub.status.busy": "2021-03-27T04:16:59.940392Z",
     "iopub.status.idle": "2021-03-27T04:17:12.041988Z",
     "shell.execute_reply": "2021-03-27T04:17:12.040676Z",
     "shell.execute_reply.started": "2021-03-27T04:16:59.941030Z"
    },
    "tags": []
   },
   "outputs": [],
   "source": [
    "face_detector(1)"
   ]
  },
  {
   "cell_type": "code",
   "execution_count": 8,
   "metadata": {
    "execution": {
     "iopub.execute_input": "2021-03-26T05:44:40.330487Z",
     "iopub.status.busy": "2021-03-26T05:44:40.330115Z",
     "iopub.status.idle": "2021-03-26T05:44:40.340719Z",
     "shell.execute_reply": "2021-03-26T05:44:40.339582Z",
     "shell.execute_reply.started": "2021-03-26T05:44:40.330454Z"
    },
    "tags": []
   },
   "outputs": [],
   "source": [
    "cv2.destroyAllWindows()"
   ]
  },
  {
   "cell_type": "code",
   "execution_count": null,
   "metadata": {},
   "outputs": [],
   "source": []
  }
 ],
 "metadata": {
  "kernelspec": {
   "display_name": "darknet",
   "language": "python",
   "name": "darknet"
  },
  "language_info": {
   "codemirror_mode": {
    "name": "ipython",
    "version": 3
   },
   "file_extension": ".py",
   "mimetype": "text/x-python",
   "name": "python",
   "nbconvert_exporter": "python",
   "pygments_lexer": "ipython3",
   "version": "3.9.2"
  }
 },
 "nbformat": 4,
 "nbformat_minor": 4
}
